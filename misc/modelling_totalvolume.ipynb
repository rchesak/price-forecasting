{
 "cells": [
  {
   "cell_type": "markdown",
   "metadata": {},
   "source": [
    "# Modelling `totalvolume`"
   ]
  },
  {
   "cell_type": "code",
   "execution_count": 2,
   "metadata": {},
   "outputs": [],
   "source": [
    "import numpy as np\n",
    "import pandas as pd"
   ]
  },
  {
   "cell_type": "code",
   "execution_count": 8,
   "metadata": {},
   "outputs": [],
   "source": [
    "#import data\n",
    "train = pd.read_csv('train.csv', index_col='date', parse_dates=True)\n",
    "validation = pd.read_csv('validation.csv', index_col='date', parse_dates=True)\n",
    "test = pd.read_csv('test.csv', index_col='date', parse_dates=True)"
   ]
  },
  {
   "cell_type": "markdown",
   "metadata": {},
   "source": [
    "Note the following changes in these datasets:\n",
    "- the sales and google search term data have been joined using `date` as the join key\n",
    "- NULLs have been filled via forward fill (Pandas `fillna(method='ffill')`)\n",
    "- `season` has been added as an x-var\n",
    "- all headers are in readable, code-friendly format (lower case and stripped for whitespace)"
   ]
  },
  {
   "cell_type": "code",
   "execution_count": 4,
   "metadata": {},
   "outputs": [
    {
     "data": {
      "text/plain": [
       "Index(['averageprice', 'totalvolume', '4046', '4225', '4770', 'totalbags',\n",
       "       'smallbags', 'largebags', 'xlargebags', 'type', 'year', 'region',\n",
       "       'gst_avocado', 'gst_organic', 'gst_avocado_recipe', 'gst_avocado_toast',\n",
       "       'gst_avocado_sandwich', 'gst_organic_avocado', 'season'],\n",
       "      dtype='object')"
      ]
     },
     "execution_count": 4,
     "metadata": {},
     "output_type": "execute_result"
    }
   ],
   "source": [
    "train.columns"
   ]
  },
  {
   "cell_type": "markdown",
   "metadata": {},
   "source": [
    "## Process data"
   ]
  },
  {
   "cell_type": "code",
   "execution_count": 16,
   "metadata": {},
   "outputs": [],
   "source": [
    "#import lists (quantiles are based on training set)\n",
    "first = list(pd.read_csv('totalvolume_list_0.csv', header=None).iloc[0,:])\n",
    "second = list(pd.read_csv('totalvolume_list_1.csv', header=None).iloc[0,:])\n",
    "third = list(pd.read_csv('totalvolume_list_2.csv', header=None).iloc[0,:])\n",
    "fourth = list(pd.read_csv('totalvolume_list_3.csv', header=None).iloc[0,:])"
   ]
  },
  {
   "cell_type": "code",
   "execution_count": 18,
   "metadata": {},
   "outputs": [],
   "source": [
    "def add_median_totalvolume_quantile(df):\n",
    "    '''\n",
    "    Adds a column for the quantile of the median totalvolume per city, \n",
    "    where Denver is on its own as an outlier, and non-city entries are \n",
    "    left as-is (e.g. 'West', 'totalUS').\n",
    "    '''\n",
    "    df['median_totalvolume_quantile'] = ['first' if region in first else \\\n",
    "                                         'second' if region in second else \\\n",
    "                                         'third' if region in third else \\\n",
    "                                         'fourth' if region in fourth else \\\n",
    "                                         'denver' if region == 'Denver' else\\\n",
    "                                         region for region in df.region]\n",
    "    return df"
   ]
  },
  {
   "cell_type": "code",
   "execution_count": null,
   "metadata": {},
   "outputs": [],
   "source": [
    "def totalvolume_processing(df):\n",
    "    '''\n",
    "    Prepares data for modelling totalvolume.\n",
    "    '''\n",
    "    #add column: median_totalvolume_quantile\n",
    "    df = add_median_totalvolume_quantile(df)\n",
    "    \n",
    "    #grab only relevant columns\n",
    "    df = df.loc[:, ['averageprice', \n",
    "                    'totalvolume', \n",
    "                    'totalbags',\n",
    "                    'gst_avocado_recipe',\n",
    "                    'type',\n",
    "                    'season',\n",
    "                    'median_totalvolume_quantile'\n",
    "                   ]]\n",
    "    \n",
    "    #normalize numeric data\n",
    "    \n",
    "    #split into x and y, while keeping y as an x-var\n",
    "    \n",
    "    #create dummy variable for categorical vars?\n",
    "    \n",
    "    #since we are forecasting, shift all numeric vars back one week (t-1)\n",
    "    \n",
    "    #create numpy arrays\n",
    "    \n",
    "        \n"
   ]
  },
  {
   "cell_type": "code",
   "execution_count": null,
   "metadata": {},
   "outputs": [],
   "source": []
  },
  {
   "cell_type": "code",
   "execution_count": null,
   "metadata": {},
   "outputs": [],
   "source": [
    "#call fcn\n",
    "train = process_df(train)\n",
    "validation = process_df(train)\n",
    "test = process_df(train)"
   ]
  },
  {
   "cell_type": "code",
   "execution_count": null,
   "metadata": {},
   "outputs": [],
   "source": []
  }
 ],
 "metadata": {
  "kernelspec": {
   "display_name": "Python 3",
   "language": "python",
   "name": "python3"
  },
  "language_info": {
   "codemirror_mode": {
    "name": "ipython",
    "version": 3
   },
   "file_extension": ".py",
   "mimetype": "text/x-python",
   "name": "python",
   "nbconvert_exporter": "python",
   "pygments_lexer": "ipython3",
   "version": "3.7.5"
  }
 },
 "nbformat": 4,
 "nbformat_minor": 2
}
